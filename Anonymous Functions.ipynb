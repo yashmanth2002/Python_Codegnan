{
 "cells": [
  {
   "cell_type": "code",
   "execution_count": 1,
   "id": "66afc75a-72ea-4d1f-8ac4-d10c1404c158",
   "metadata": {},
   "outputs": [
    {
     "name": "stdout",
     "output_type": "stream",
     "text": [
      "[1, 4, 9, 16, 25]\n"
     ]
    }
   ],
   "source": [
    "# find the squares of numbers in list using lambda and map\n",
    "lst = [1, 2, 3, 4, 5]\n",
    "res_list = list(map(lambda x: x**2, lst))\n",
    "print(res_list)"
   ]
  },
  {
   "cell_type": "code",
   "execution_count": 2,
   "id": "6eaa30b5-04fe-402b-8507-1deaf63613e9",
   "metadata": {},
   "outputs": [
    {
     "name": "stdout",
     "output_type": "stream",
     "text": [
      "[2, 4]\n"
     ]
    }
   ],
   "source": [
    "# filter even numbers in list using lambda and filter\n",
    "lst = [1, 2, 3, 4, 5]\n",
    "res_list = list(filter(lambda x: x%2 == 0, lst))\n",
    "print(res_list)"
   ]
  },
  {
   "cell_type": "code",
   "execution_count": 3,
   "id": "c32a97e5-0eb1-4bbd-8ed8-f604eae042b8",
   "metadata": {},
   "outputs": [
    {
     "name": "stdout",
     "output_type": "stream",
     "text": [
      "[3, 3, 5, 5, 7]\n"
     ]
    }
   ],
   "source": [
    "lst = [1, 2, 3, 4, 5]\n",
    "res_list = list(map(lambda x: x+1 if x%2 == 0 else x+2, lst))\n",
    "print(res_list)"
   ]
  },
  {
   "cell_type": "code",
   "execution_count": null,
   "id": "8dd3b98b-660f-49e5-8f9b-4dab8cac1ffb",
   "metadata": {},
   "outputs": [],
   "source": []
  }
 ],
 "metadata": {
  "kernelspec": {
   "display_name": "Python 3 (ipykernel)",
   "language": "python",
   "name": "python3"
  },
  "language_info": {
   "codemirror_mode": {
    "name": "ipython",
    "version": 3
   },
   "file_extension": ".py",
   "mimetype": "text/x-python",
   "name": "python",
   "nbconvert_exporter": "python",
   "pygments_lexer": "ipython3",
   "version": "3.13.3"
  }
 },
 "nbformat": 4,
 "nbformat_minor": 5
}
