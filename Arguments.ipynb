{
 "cells": [
  {
   "cell_type": "markdown",
   "id": "50d2d1e3-0774-41a6-aabe-d79ef49c963b",
   "metadata": {},
   "source": [
    "Arguments:- Based on Arguments functions are classified into 5 types\n",
    "Types of Arguments:-\n",
    "1. Positional Arguments\n",
    "2. Keyword Arguments\n",
    "3. Default Arguments\n",
    "4. Variable length of positional Arguments\n",
    "5. Variable length of Keyword Arguments"
   ]
  },
  {
   "cell_type": "code",
   "execution_count": 1,
   "id": "e15caf5f-6050-4fc5-9874-6821aed17a22",
   "metadata": {},
   "outputs": [
    {
     "name": "stdout",
     "output_type": "stream",
     "text": [
      "5\n"
     ]
    }
   ],
   "source": [
    "#1.Positional Arguments\n",
    "def difference(n1, n2):\n",
    "    result = n1 - n2\n",
    "    return result\n",
    "a = 10\n",
    "b = 5\n",
    "res = difference(a, b)\n",
    "print(res)"
   ]
  },
  {
   "cell_type": "code",
   "execution_count": 2,
   "id": "d25ca337-215c-437b-9c96-b6a989036c3c",
   "metadata": {},
   "outputs": [
    {
     "name": "stdout",
     "output_type": "stream",
     "text": [
      "-5\n"
     ]
    }
   ],
   "source": [
    "def difference(n1, n2):\n",
    "    result = n1 - n2\n",
    "    return result\n",
    "a = 10\n",
    "b = 5\n",
    "res = difference(b, a)\n",
    "print(res)"
   ]
  },
  {
   "cell_type": "markdown",
   "id": "e444defa-9ec1-42bb-8da2-e4f88da88100",
   "metadata": {},
   "source": [
    "#2. Keyword Arguments\n",
    "def difference(n1, n2):\n",
    "    val = n1 - n2\n",
    "    return val\n",
    "print(difference(n1 = 5, n2 = 10))\n",
    "print(difference(n1 = 10, n2 = 5))"
   ]
  },
  {
   "cell_type": "code",
   "execution_count": 5,
   "id": "669fdafd-9ff1-424e-aa3d-af679beb9e59",
   "metadata": {},
   "outputs": [
    {
     "name": "stdout",
     "output_type": "stream",
     "text": [
      "50\n",
      "90\n",
      "95\n"
     ]
    }
   ],
   "source": [
    "#3. Default Arguments\n",
    "def difference (n1, n2, n3 = 0, n4 = 0):\n",
    "    val = n1 + n2 + n3 + n4\n",
    "    return val\n",
    "print(difference(20, 30))\n",
    "print(difference(20, 30, 40))\n",
    "print(difference(5, 20, 30, 40))"
   ]
  },
  {
   "cell_type": "code",
   "execution_count": 3,
   "id": "b0469ea5-c847-43e3-89c1-020ed73c6ea2",
   "metadata": {},
   "outputs": [
    {
     "name": "stdout",
     "output_type": "stream",
     "text": [
      "10\n",
      "[20, 21, 22]\n",
      "23\n"
     ]
    }
   ],
   "source": [
    "a, *b, c = 10, 20, 21, 22, 23\n",
    "print(a)\n",
    "print(b)\n",
    "print(c)"
   ]
  },
  {
   "cell_type": "code",
   "execution_count": 9,
   "id": "cc6486df-adc0-4716-814e-f759c1c078e3",
   "metadata": {},
   "outputs": [
    {
     "name": "stdout",
     "output_type": "stream",
     "text": [
      "0\n",
      "10\n",
      "33\n",
      "75\n"
     ]
    }
   ],
   "source": [
    "#4. variable/ Aribitary  length of positional aarguments\n",
    "def sum_of_nums(*args):\n",
    "   # print(type(args))\n",
    "   # print(args)\n",
    "    s = 0\n",
    "    for i in range(len(args)):\n",
    "        s += args[i]\n",
    "    return s\n",
    "print(sum_of_nums())\n",
    "print(sum_of_nums(10))\n",
    "print(sum_of_nums(10, 11, 12))\n",
    "print(sum_of_nums(10, 11, 12, 13, 14, 15))"
   ]
  },
  {
   "cell_type": "code",
   "execution_count": 11,
   "id": "af6f5f3f-a873-4478-b4b1-780bb000ee32",
   "metadata": {},
   "outputs": [
    {
     "name": "stdout",
     "output_type": "stream",
     "text": [
      "<class 'dict'>\n",
      "{'n1': 5, 'n2': 10, 'a': 11}\n",
      "None\n"
     ]
    }
   ],
   "source": [
    "# variable length of keyword arguments\n",
    "def fun(**kwargs):\n",
    "    print(type(kwargs))\n",
    "    print(kwargs)\n",
    "print(fun(n1 = 5, n2 = 10, a = 11))"
   ]
  },
  {
   "cell_type": "code",
   "execution_count": 13,
   "id": "8b0b2c5a-3680-4f96-bf2f-054fe8de08e5",
   "metadata": {},
   "outputs": [
    {
     "name": "stdout",
     "output_type": "stream",
     "text": [
      "<class 'dict'>\n",
      "{'apple': 10, 'orange': 100, 'mango': 150}\n",
      "None\n"
     ]
    }
   ],
   "source": [
    "def fun(**kwargs):\n",
    "    print(type(kwargs))\n",
    "    print(kwargs)\n",
    "print(fun(apple = 10, orange = 100, mango = 150))"
   ]
  },
  {
   "cell_type": "code",
   "execution_count": 22,
   "id": "f768e377-c759-470a-9343-42d6f7d0395b",
   "metadata": {},
   "outputs": [
    {
     "name": "stdout",
     "output_type": "stream",
     "text": [
      "apple : 10\n",
      "orange : 100\n",
      "mango : 150\n",
      "Total: 260\n"
     ]
    }
   ],
   "source": [
    "def fun(**kwargs):\n",
    "    total = 0\n",
    "    for item in kwargs.items():\n",
    "        print(f\"{item[0]} : {item[1]}\")\n",
    "        total += item[1]\n",
    "    return total\n",
    "print(\"Total:\", fun(apple = 10, orange = 100, mango = 150))"
   ]
  },
  {
   "cell_type": "code",
   "execution_count": 23,
   "id": "8b060ead-1444-4883-b942-04fe0fe24df0",
   "metadata": {},
   "outputs": [
    {
     "name": "stdout",
     "output_type": "stream",
     "text": [
      "dict_items([('apple', 10), ('orange', 100), ('mango', 150)])\n",
      "apple : 10\n",
      "orange : 100\n",
      "mango : 150\n",
      "Total: 260\n"
     ]
    }
   ],
   "source": [
    "d = {'apple': 10, 'orange': 100, 'mango': 150}\n",
    "print(d.items())\n",
    "s = 0\n",
    "for item in d.items():\n",
    "    print(f\"{item[0]} : {item[1]}\")\n",
    "    s += item[1]\n",
    "print(\"Total:\", s)"
   ]
  },
  {
   "cell_type": "markdown",
   "id": "b20395de-aa9b-4d27-b7aa-807876921f8b",
   "metadata": {},
   "source": [
    "def fun(a, *args, *kwargs):\n",
    "    print(a)\n",
    "    print(args)\n",
    "    print(kwargs)\n",
    "fun(10, 20, 30, 40, n1 = 10, n2 = 30)"
   ]
  },
  {
   "cell_type": "code",
   "execution_count": null,
   "id": "e6861eb4-11e2-4118-b684-cf3c1dfa417e",
   "metadata": {},
   "outputs": [],
   "source": []
  }
 ],
 "metadata": {
  "kernelspec": {
   "display_name": "Python 3 (ipykernel)",
   "language": "python",
   "name": "python3"
  },
  "language_info": {
   "codemirror_mode": {
    "name": "ipython",
    "version": 3
   },
   "file_extension": ".py",
   "mimetype": "text/x-python",
   "name": "python",
   "nbconvert_exporter": "python",
   "pygments_lexer": "ipython3",
   "version": "3.13.3"
  }
 },
 "nbformat": 4,
 "nbformat_minor": 5
}
