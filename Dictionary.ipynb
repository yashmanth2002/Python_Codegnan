{
 "cells": [
  {
   "cell_type": "code",
   "execution_count": 8,
   "id": "46d64800-8ad7-4637-a9c7-396d81d2150c",
   "metadata": {},
   "outputs": [
    {
     "name": "stdin",
     "output_type": "stream",
     "text": [
      " 4\n",
      " 1 10\n",
      " 2 20\n",
      " 3 30\n",
      " 4 50\n"
     ]
    },
    {
     "name": "stdout",
     "output_type": "stream",
     "text": [
      "{1: 10, 2: 20, 3: 30, 4: 50}\n"
     ]
    }
   ],
   "source": [
    "n = int(input())\n",
    "d = dict()\n",
    "for i in range(n):\n",
    "    key,value = map(int,input().split())\n",
    "    d[key] = value\n",
    "print(d)"
   ]
  },
  {
   "cell_type": "code",
   "execution_count": 24,
   "id": "d41f018f-f60c-4d54-8b0e-8a9b0b100ab9",
   "metadata": {},
   "outputs": [
    {
     "name": "stdin",
     "output_type": "stream",
     "text": [
      " 2\n",
      " 30\n"
     ]
    },
    {
     "name": "stdout",
     "output_type": "stream",
     "text": [
      "9000\n"
     ]
    }
   ],
   "source": [
    "hours = int(input())\n",
    "minutes =int(input())\n",
    "min_sec = minutes * 60\n",
    "hour_sec = hours * 60 *60\n",
    "print(min_sec + hour_sec)"
   ]
  },
  {
   "cell_type": "code",
   "execution_count": 38,
   "id": "3cb25e6b-4c6a-47da-977d-fc0725d2515c",
   "metadata": {},
   "outputs": [
    {
     "name": "stdin",
     "output_type": "stream",
     "text": [
      " 30000\n"
     ]
    },
    {
     "name": "stdout",
     "output_type": "stream",
     "text": [
      "8 20 0\n"
     ]
    }
   ],
   "source": [
    "sec = int(input())\n",
    "hours = sec//3600\n",
    "sec = sec % 3600\n",
    "mins = sec // 60\n",
    "sec = sec % 60\n",
    "print(hours, mins , sec)\n"
   ]
  },
  {
   "cell_type": "code",
   "execution_count": null,
   "id": "fb06ca8c-eb91-4f1b-ac0a-f8e26623533b",
   "metadata": {},
   "outputs": [],
   "source": []
  }
 ],
 "metadata": {
  "kernelspec": {
   "display_name": "Python 3 (ipykernel)",
   "language": "python",
   "name": "python3"
  },
  "language_info": {
   "codemirror_mode": {
    "name": "ipython",
    "version": 3
   },
   "file_extension": ".py",
   "mimetype": "text/x-python",
   "name": "python",
   "nbconvert_exporter": "python",
   "pygments_lexer": "ipython3",
   "version": "3.13.3"
  }
 },
 "nbformat": 4,
 "nbformat_minor": 5
}
