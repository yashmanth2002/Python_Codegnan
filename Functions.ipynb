{
 "cells": [
  {
   "cell_type": "code",
   "execution_count": 3,
   "id": "d7155cff-0b3e-4247-ae16-613d7a5b493d",
   "metadata": {},
   "outputs": [
    {
     "name": "stdout",
     "output_type": "stream",
     "text": [
      "30\n",
      "None\n"
     ]
    }
   ],
   "source": [
    "# Types of functions based on parameters and return value\n",
    "#1 . without parameter and without return value\n",
    "# - The function defination doesn't take parameter and doesn't return any value or expression\n",
    "# - The function defination execution is terminate when return statement is executed\n",
    "# - The function defination returns some expression otherwise None\n",
    "def sum_of_two_numbers(): #function defination\n",
    "    x = 10\n",
    "    y = 20\n",
    "    c = x + y\n",
    "    print(c)\n",
    "    return\n",
    "res = sum_of_two_numbers() #function call\n",
    "print(res)"
   ]
  },
  {
   "cell_type": "code",
   "execution_count": 3,
   "id": "936e4f9a-e7d9-46b9-82a9-8458faf8e974",
   "metadata": {},
   "outputs": [
    {
     "name": "stdout",
     "output_type": "stream",
     "text": [
      "This is from function call: 30\n"
     ]
    }
   ],
   "source": [
    "# 2. without parameters and with return value\n",
    "def sum_of_two_numbers():\n",
    "    x = 10\n",
    "    y = 20\n",
    "    c = x + y\n",
    "    return c \n",
    "res = sum_of_two_numbers()\n",
    "print(\"This is from function call:\", res)"
   ]
  },
  {
   "cell_type": "code",
   "execution_count": 6,
   "id": "76c267e5-cf8a-43d0-9b80-182edbb1a88b",
   "metadata": {},
   "outputs": [
    {
     "name": "stdout",
     "output_type": "stream",
     "text": [
      "This is from function defination: 30\n",
      "This is from function call: None\n"
     ]
    }
   ],
   "source": [
    "# 3. with parameters and without return value\n",
    "def sum_of_two_numbers(num1, num2):\n",
    "    c = num1 + num2\n",
    "    print(\"This is from function defination:\", c)\n",
    "    return  \n",
    "res = sum_of_two_numbers(10, 20)\n",
    "print(\"This is from function call:\", res)"
   ]
  },
  {
   "cell_type": "code",
   "execution_count": 8,
   "id": "ee2f138b-c4e0-4b6e-a91c-8439be8d5020",
   "metadata": {},
   "outputs": [
    {
     "name": "stdout",
     "output_type": "stream",
     "text": [
      "This is from function call: 30\n"
     ]
    }
   ],
   "source": [
    "# 4. with parameters and with return value\n",
    "def sum_of_two_numbers(num1, num2):\n",
    "    c = num1 + num2\n",
    "   # print(\"This is from function defination:\", c)\n",
    "    return c\n",
    "res = sum_of_two_numbers(20, 10)\n",
    "print(\"This is from function call:\", res)"
   ]
  },
  {
   "cell_type": "markdown",
   "id": "c772c9c6-d81b-4818-8696-c474f9ff399c",
   "metadata": {},
   "source": [
    "Types of Functions\n",
    "1. User-defined functions\n",
    "2. Built-In functions\n",
    "\n",
    "1. user_defined functions:- The function defination created by user or programmer without importing from any module those functions called as user-defined functions. Based on the parameters and return value functions are classified into four types\n",
    "   a. Without Parameters and Without Return Value:- The function defination does not take any Parameters and Return Value\n",
    "   b. Without Parameters and  With Return Value:- The function defination does not take any Parameters and it return             Return Value\n",
    "   c. With Parameters and without Return Value:- The function defination take parameters and does not return any value\n",
    "   d. with Parameters and with Return value:- The function defination take parameters and it return the value"
   ]
  },
  {
   "cell_type": "code",
   "execution_count": 18,
   "id": "77ae1751-f350-4ba6-951d-c497015a1c88",
   "metadata": {},
   "outputs": [
    {
     "name": "stdout",
     "output_type": "stream",
     "text": [
      "The Odd number is:  323\n"
     ]
    }
   ],
   "source": [
    "def even_odd_of_numbers(num1):\n",
    "    if num1 % 2 == 0:\n",
    "        print(\"The Even number is: \", num1)\n",
    "    else:\n",
    "        print(\"The Odd number is: \", num1)\n",
    "        return res\n",
    "res = even_odd_of_numbers(323)"
   ]
  },
  {
   "cell_type": "code",
   "execution_count": 2,
   "id": "527f3fee-2bff-4aa9-818a-d00c63878a07",
   "metadata": {},
   "outputs": [
    {
     "name": "stdout",
     "output_type": "stream",
     "text": [
      "15\n"
     ]
    }
   ],
   "source": [
    "def difference_of_two_numbers(num1, num2):\n",
    "    return num1 - num2\n",
    "num1 = 40\n",
    "num2 = 25\n",
    "res = difference_of_two_numbers(num1, num2)\n",
    "print(res)"
   ]
  },
  {
   "cell_type": "code",
   "execution_count": null,
   "id": "9caeb830-1e79-493c-83a9-7f21f9ecf207",
   "metadata": {},
   "outputs": [],
   "source": []
  }
 ],
 "metadata": {
  "kernelspec": {
   "display_name": "Python 3 (ipykernel)",
   "language": "python",
   "name": "python3"
  },
  "language_info": {
   "codemirror_mode": {
    "name": "ipython",
    "version": 3
   },
   "file_extension": ".py",
   "mimetype": "text/x-python",
   "name": "python",
   "nbconvert_exporter": "python",
   "pygments_lexer": "ipython3",
   "version": "3.13.3"
  }
 },
 "nbformat": 4,
 "nbformat_minor": 5
}
