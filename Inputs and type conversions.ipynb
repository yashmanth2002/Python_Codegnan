{
 "cells": [
  {
   "cell_type": "code",
   "execution_count": 1,
   "id": "0b456d8d-dd27-436c-92ff-2686de6d3b9a",
   "metadata": {},
   "outputs": [
    {
     "name": "stdin",
     "output_type": "stream",
     "text": [
      " 10\n"
     ]
    },
    {
     "name": "stdout",
     "output_type": "stream",
     "text": [
      "10\n",
      "10.0\n",
      "True\n",
      "String type number: 10\n"
     ]
    }
   ],
   "source": [
    "#Integer to String, float, boolean conversion\n",
    "num = int(input())\n",
    "print(num)\n",
    "val = float(num)\n",
    "print(val)\n",
    "print(bool(num))\n",
    "print(\"String type number:\", str(num))"
   ]
  },
  {
   "cell_type": "code",
   "execution_count": 2,
   "id": "8ca90cb1-b115-4a29-97c7-de8d840cd360",
   "metadata": {},
   "outputs": [
    {
     "name": "stdin",
     "output_type": "stream",
     "text": [
      " 10.56\n"
     ]
    },
    {
     "name": "stdout",
     "output_type": "stream",
     "text": [
      "10\n",
      "10.56\n",
      "True\n"
     ]
    }
   ],
   "source": [
    "#float to integer, string, boolean conversion'\n",
    "val = float(input())\n",
    "print(int(val))\n",
    "print(str(val))\n",
    "print(bool(val))"
   ]
  },
  {
   "cell_type": "code",
   "execution_count": 3,
   "id": "f41c2ba9-7cd7-406c-8e44-7bbc4cca1fdf",
   "metadata": {},
   "outputs": [
    {
     "data": {
      "text/plain": [
       "2"
      ]
     },
     "execution_count": 3,
     "metadata": {},
     "output_type": "execute_result"
    }
   ],
   "source": [
    "True + True - False"
   ]
  },
  {
   "cell_type": "code",
   "execution_count": 4,
   "id": "4de7bf25-bb8c-4963-ba3e-38ce49af6124",
   "metadata": {},
   "outputs": [
    {
     "data": {
      "text/plain": [
       "True"
      ]
     },
     "execution_count": 4,
     "metadata": {},
     "output_type": "execute_result"
    }
   ],
   "source": [
    "True >= True>= False"
   ]
  },
  {
   "cell_type": "code",
   "execution_count": 5,
   "id": "7e1d37a6-3c82-43bf-b8d2-6b313f6a52d2",
   "metadata": {},
   "outputs": [
    {
     "data": {
      "text/plain": [
       "True"
      ]
     },
     "execution_count": 5,
     "metadata": {},
     "output_type": "execute_result"
    }
   ],
   "source": [
    "3 > 2 > 1"
   ]
  },
  {
   "cell_type": "code",
   "execution_count": 10,
   "id": "8a1b49a9-3b21-4bf4-ae90-8b0559c34b49",
   "metadata": {},
   "outputs": [
    {
     "name": "stdin",
     "output_type": "stream",
     "text": [
      " 2035\n"
     ]
    },
    {
     "name": "stdout",
     "output_type": "stream",
     "text": [
      "Integer Conv: 2035\n",
      "float Conv: 2035.0\n",
      "Boolean Conv: True\n",
      "List Conv: ['2', '0', '3', '5']\n",
      "Tuple Conv: ('2', '0', '3', '5')\n",
      "Set Conv: {'2', '0', '5', '3'}\n"
     ]
    }
   ],
   "source": [
    "# string to integer, float, boolean, list, tuple and set Operations\n",
    "string = input()\n",
    "print(\"Integer Conv:\", int(string))\n",
    "print(\"float Conv:\", float(string))\n",
    "print(\"Boolean Conv:\", bool(string))\n",
    "print(\"List Conv:\", list(string))\n",
    "print(\"Tuple Conv:\", tuple(string))\n",
    "print(\"Set Conv:\", set(string))"
   ]
  },
  {
   "cell_type": "code",
   "execution_count": 15,
   "id": "a60f29de-2c56-4c47-93b5-64d865c9ef71",
   "metadata": {},
   "outputs": [
    {
     "name": "stdin",
     "output_type": "stream",
     "text": [
      " 10 20 30 40 50\n"
     ]
    },
    {
     "name": "stdout",
     "output_type": "stream",
     "text": [
      "[10, 20, 30, 40, 50]\n",
      "[10, 20, 30, 40, 50]\n",
      "[10\n",
      "tuple conv: (10, 20, 30, 40, 50)\n",
      "Set_conv: {40, 10, 50, 20, 30}\n"
     ]
    }
   ],
   "source": [
    "# list to string, tuple, set conversions\n",
    "list_nums = list(map(int, input().split()))\n",
    "print(list_nums)\n",
    "string_list = str(list_nums)\n",
    "print(string_list)\n",
    "print(string_list[:3])\n",
    "print(\"tuple conv:\", tuple(list_nums))\n",
    "print(\"Set_conv:\", set(list_nums))"
   ]
  },
  {
   "cell_type": "code",
   "execution_count": 17,
   "id": "3b3fd6c3-fb91-4c29-a5cf-61ba57c15875",
   "metadata": {},
   "outputs": [
    {
     "name": "stdout",
     "output_type": "stream",
     "text": [
      "{'a': 1, 'b': 2, 'c': 3}\n"
     ]
    }
   ],
   "source": [
    "# list to dictionary conversion\n",
    "lst = [['a',1], ['b', 2], ['c', 3]]\n",
    "print(dict(lst))"
   ]
  },
  {
   "cell_type": "code",
   "execution_count": 18,
   "id": "d469e2bb-4789-4cfe-8780-514bbbfe1538",
   "metadata": {},
   "outputs": [
    {
     "name": "stdin",
     "output_type": "stream",
     "text": [
      " 1 2 3 1 23\n"
     ]
    },
    {
     "name": "stdout",
     "output_type": "stream",
     "text": [
      "String Conv: (1, 2\n",
      "List Conv: [1, 2, 3, 1, 23]\n",
      "Set Conv: {1, 2, 3, 23}\n"
     ]
    }
   ],
   "source": [
    "# Tuple to list, string, set conversion\n",
    "t = tuple(map(int, input().split()))\n",
    "print(\"String Conv:\" , str(t)[:5])\n",
    "print(\"List Conv:\", list(t))\n",
    "print(\"Set Conv:\", set(t))"
   ]
  },
  {
   "cell_type": "code",
   "execution_count": 19,
   "id": "1134169c-b2e4-4b5c-a59c-eef17f92ec35",
   "metadata": {},
   "outputs": [
    {
     "data": {
      "text/plain": [
       "'125'"
      ]
     },
     "execution_count": 19,
     "metadata": {},
     "output_type": "execute_result"
    }
   ],
   "source": [
    "'1' + '2' + str(5)"
   ]
  },
  {
   "cell_type": "code",
   "execution_count": 22,
   "id": "82a70d54-48df-4c26-8db0-2c27b01ee471",
   "metadata": {},
   "outputs": [
    {
     "name": "stdin",
     "output_type": "stream",
     "text": [
      " 1 2 3 4 5 89 90 123\n"
     ]
    },
    {
     "name": "stdout",
     "output_type": "stream",
     "text": [
      "{1, 2, 3, 4, 5, 89, 90, 123}\n",
      "String Conv: {1, 2\n",
      "List Conv: [1, 2, 3, 4, 5, 89, 90, 123]\n",
      "Tuple Conv: (1, 2, 3, 4, 5, 89, 90, 123)\n"
     ]
    }
   ],
   "source": [
    "# Set to list, string, tuple conversion\n",
    "s = set(map(int, input().split()))\n",
    "print(s)\n",
    "print(\"String Conv:\" , str(s)[:5])\n",
    "print(\"List Conv:\", list(s))\n",
    "print(\"Tuple Conv:\", tuple(s))"
   ]
  },
  {
   "cell_type": "code",
   "execution_count": null,
   "id": "e8324633-000f-4094-8b34-7d094fa5f3cd",
   "metadata": {},
   "outputs": [],
   "source": []
  }
 ],
 "metadata": {
  "kernelspec": {
   "display_name": "Python 3 (ipykernel)",
   "language": "python",
   "name": "python3"
  },
  "language_info": {
   "codemirror_mode": {
    "name": "ipython",
    "version": 3
   },
   "file_extension": ".py",
   "mimetype": "text/x-python",
   "name": "python",
   "nbconvert_exporter": "python",
   "pygments_lexer": "ipython3",
   "version": "3.13.3"
  }
 },
 "nbformat": 4,
 "nbformat_minor": 5
}
