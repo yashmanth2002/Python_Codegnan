{
 "cells": [
  {
   "cell_type": "markdown",
   "id": "c0513441-8341-46ae-87b4-078c3feec9d2",
   "metadata": {},
   "source": [
    "#List Comprehension\n",
    "Syntax: [expression for iterator in iterable if condition]"
   ]
  },
  {
   "cell_type": "code",
   "execution_count": 1,
   "id": "8df350c5-b187-4566-ad4e-faf7b0c857a1",
   "metadata": {},
   "outputs": [
    {
     "name": "stdin",
     "output_type": "stream",
     "text": [
      " 10\n"
     ]
    },
    {
     "name": "stdout",
     "output_type": "stream",
     "text": [
      "[1, 2, 3, 4, 5, 6, 7, 8, 9, 10]\n"
     ]
    }
   ],
   "source": [
    "# list of n numbers\n",
    "n = int(input())\n",
    "lst = []\n",
    "for i in range(1, n+1):\n",
    "    lst.append(i)\n",
    "print(lst)"
   ]
  },
  {
   "cell_type": "code",
   "execution_count": 2,
   "id": "fc48e7b9-f613-41ab-8d62-ee058bb00e2b",
   "metadata": {},
   "outputs": [
    {
     "name": "stdin",
     "output_type": "stream",
     "text": [
      " 10\n"
     ]
    },
    {
     "name": "stdout",
     "output_type": "stream",
     "text": [
      "[1, 2, 3, 4, 5, 6, 7, 8, 9, 10]\n"
     ]
    }
   ],
   "source": [
    "# list of n numbers using list comprehension\n",
    "n = int(input())\n",
    "my_list = [i for i in range(1, n + 1)]\n",
    "print(my_list)\n"
   ]
  },
  {
   "cell_type": "code",
   "execution_count": 3,
   "id": "bab90449-13d3-4ce1-a0ee-6ac3cc6efc50",
   "metadata": {},
   "outputs": [
    {
     "name": "stdin",
     "output_type": "stream",
     "text": [
      " 20\n"
     ]
    },
    {
     "name": "stdout",
     "output_type": "stream",
     "text": [
      "[2, 4, 6, 8, 10, 12, 14, 16, 18, 20]\n"
     ]
    }
   ],
   "source": [
    "# list of even numbers between 1 to n\n",
    "n = int(input())\n",
    "res = [x for x in range(1, n+1) if x%2 == 0]\n",
    "print(res)"
   ]
  },
  {
   "cell_type": "code",
   "execution_count": 4,
   "id": "361cdf13-448f-45f2-8360-b8f7ccf4db91",
   "metadata": {},
   "outputs": [
    {
     "name": "stdin",
     "output_type": "stream",
     "text": [
      " 20\n"
     ]
    },
    {
     "name": "stdout",
     "output_type": "stream",
     "text": [
      "[0, 2, 4, 6, 8, 10, 12, 14, 16, 18, 20, 22, 24, 26, 28, 30, 32, 34, 36, 38]\n"
     ]
    }
   ],
   "source": [
    "# n even numbers using List comprehension\n",
    "n = int(input())\n",
    "res = [x for x in range(0, 2*n, 2)]\n",
    "print(res)"
   ]
  },
  {
   "cell_type": "code",
   "execution_count": 5,
   "id": "a47e8bdf-1466-48c8-81c4-9a709c3b6c06",
   "metadata": {},
   "outputs": [
    {
     "name": "stdin",
     "output_type": "stream",
     "text": [
      " 20\n"
     ]
    },
    {
     "name": "stdout",
     "output_type": "stream",
     "text": [
      "[1, 3, 5, 7, 9, 11, 13, 15, 17, 19, 21, 23, 25, 27, 29, 31, 33, 35, 37, 39]\n"
     ]
    }
   ],
   "source": [
    "# n odd numbers using List comprehension\n",
    "n = int(input())\n",
    "res = [x*2+1 for x in range(n)]\n",
    "print(res)"
   ]
  },
  {
   "cell_type": "code",
   "execution_count": 7,
   "id": "e435365d-4965-4f2c-bdf5-9c6d0e36aa86",
   "metadata": {},
   "outputs": [
    {
     "name": "stdin",
     "output_type": "stream",
     "text": [
      " 10 20\n"
     ]
    },
    {
     "name": "stdout",
     "output_type": "stream",
     "text": [
      "[20, 22, 24, 26, 28, 30, 32, 34, 36, 38]\n"
     ]
    }
   ],
   "source": [
    "# even numbers between range\n",
    "n1, n2 = map(int, input().split())\n",
    "res = [x*2 for x in range(n1, n2)]\n",
    "print(res)"
   ]
  },
  {
   "cell_type": "code",
   "execution_count": 8,
   "id": "6efbe431-68a8-4e5c-82a4-e9f544f6559c",
   "metadata": {},
   "outputs": [
    {
     "name": "stdin",
     "output_type": "stream",
     "text": [
      " 10 20\n"
     ]
    },
    {
     "name": "stdout",
     "output_type": "stream",
     "text": [
      "[10, 12, 14, 16, 18]\n"
     ]
    }
   ],
   "source": [
    "n1, n2 = map(int, input().split())\n",
    "res = [x for x in range(n1, n2) if x%2 == 0]\n",
    "print(res)"
   ]
  },
  {
   "cell_type": "markdown",
   "id": "56a763ce-9c3e-47ef-a600-abbe5460c348",
   "metadata": {},
   "source": [
    "- List Comphension with if else\n",
    "- syntax: [tru_exp if conditions else False_exp for iterator in iterable]"
   ]
  },
  {
   "cell_type": "code",
   "execution_count": 9,
   "id": "bccdd63d-fbd6-4b8b-bd25-f2c39f3a067d",
   "metadata": {},
   "outputs": [
    {
     "name": "stdin",
     "output_type": "stream",
     "text": [
      " 1 2 3 4 5 6\n"
     ]
    },
    {
     "name": "stdout",
     "output_type": "stream",
     "text": [
      "[1, 0, 1, 0, 1, 0]\n"
     ]
    }
   ],
   "source": [
    "# List of even numbers converts 1's and 0's\n",
    "# even number - 0\n",
    "# odd number - 1\n",
    "lst = list(map(int, input().split()))\n",
    "res = [0 if num%2 == 0 else 1 for num in lst]\n",
    "print(res)"
   ]
  },
  {
   "cell_type": "code",
   "execution_count": 11,
   "id": "efece700-f22d-47ac-b8bd-f859668cf455",
   "metadata": {},
   "outputs": [
    {
     "name": "stdin",
     "output_type": "stream",
     "text": [
      " 2 3 2 4 5 6 7\n"
     ]
    },
    {
     "name": "stdout",
     "output_type": "stream",
     "text": [
      "[4, 1, 4, 8, 2, 12, 3]\n"
     ]
    }
   ],
   "source": [
    "# even number - leftshift by 1\n",
    "# odd number - rightshift by 1\n",
    "lst = list(map(int, input().split()))\n",
    "res = [num << 1 if num%2 == 0 else num >> 1 for num in lst]\n",
    "print(res)"
   ]
  },
  {
   "cell_type": "code",
   "execution_count": 12,
   "id": "a960f9fd-59ae-41a2-ad2d-5c2d4e792b62",
   "metadata": {},
   "outputs": [
    {
     "name": "stdout",
     "output_type": "stream",
     "text": [
      "[(1, 1), (1, 2), (1, 3), (1, 4), (1, 5), (1, 6), (2, 1), (2, 2), (2, 3), (2, 4), (2, 5), (2, 6), (3, 1), (3, 2), (3, 3), (3, 4), (3, 5), (3, 6), (4, 1), (4, 2), (4, 3), (4, 4), (4, 5), (4, 6), (5, 1), (5, 2), (5, 3), (5, 4), (5, 5), (5, 6), (6, 1), (6, 2), (6, 3), (6, 4), (6, 5), (6, 6)]\n"
     ]
    }
   ],
   "source": [
    "# Two Dices Combinations\n",
    "res = [(x, y) for x in range(1, 7) for y in range(1, 7)]\n",
    "print(res)"
   ]
  },
  {
   "cell_type": "code",
   "execution_count": 13,
   "id": "8983a217-1a8c-4676-8cb6-6b516d676171",
   "metadata": {},
   "outputs": [
    {
     "name": "stdout",
     "output_type": "stream",
     "text": [
      "[(1, 1), (1, 3), (1, 5), (2, 2), (2, 4), (2, 6), (3, 1), (3, 3), (3, 5), (4, 2), (4, 4), (4, 6), (5, 1), (5, 3), (5, 5), (6, 2), (6, 4), (6, 6)]\n"
     ]
    }
   ],
   "source": [
    "#  Sum of Two Dices Faces is even\n",
    "res = [(x, y) for x in range(1, 7) for y in range(1, 7) if (x+y)%2 == 0]\n",
    "print(res)"
   ]
  },
  {
   "cell_type": "code",
   "execution_count": 14,
   "id": "0d76e177-4171-44f0-9052-0d233d20edbb",
   "metadata": {},
   "outputs": [
    {
     "name": "stdout",
     "output_type": "stream",
     "text": [
      "[(1, 1), (2, 2), (3, 3), (4, 4), (5, 5), (6, 6)]\n"
     ]
    }
   ],
   "source": [
    "# Two Dices Faces is same\n",
    "res = [(x, y) for x in range(1, 7) for y in range(1, 7) if x==y]\n",
    "print(res)"
   ]
  },
  {
   "cell_type": "code",
   "execution_count": 15,
   "id": "30392634-f11c-40c4-8c07-d9d8bb1f7f3a",
   "metadata": {},
   "outputs": [
    {
     "name": "stdout",
     "output_type": "stream",
     "text": [
      "[(1, 4), (2, 4), (3, 4), (4, 1), (4, 2), (4, 3), (4, 4), (4, 5), (4, 6), (5, 4), (6, 4)]\n"
     ]
    }
   ],
   "source": [
    "# Two Dices Faces is 4\n",
    "res = [(x, y) for x in range(1, 7) for y in range(1, 7) if x == 4 or y == 4]\n",
    "print(res)"
   ]
  },
  {
   "cell_type": "code",
   "execution_count": 16,
   "id": "964c13b9-b382-4ff8-b00c-67396694c502",
   "metadata": {},
   "outputs": [
    {
     "name": "stdout",
     "output_type": "stream",
     "text": [
      "[1, 0, 1, 0, 1, 0, 0, 1, 0, 1, 0, 1, 1, 0, 1, 0, 1, 0, 0, 1, 0, 1, 0, 1, 1, 0, 1, 0, 1, 0, 0, 1, 0, 1, 0, 1]\n"
     ]
    }
   ],
   "source": [
    "# Two Dices combinations sum convert into 1's and 0's\n",
    "res = [1 if (x+y)%2 == 0 else 0 for x in range(1, 7) for y in range(1, 7)]\n",
    "print(res)"
   ]
  },
  {
   "cell_type": "code",
   "execution_count": 18,
   "id": "81f10405-45ea-4e80-bfe7-b34c8eebb5e6",
   "metadata": {},
   "outputs": [
    {
     "name": "stdin",
     "output_type": "stream",
     "text": [
      " 10\n"
     ]
    },
    {
     "name": "stdout",
     "output_type": "stream",
     "text": [
      "189\n"
     ]
    }
   ],
   "source": [
    "#count of all combinations and which is k!= (sum of three dices)\n",
    "k = int(input())\n",
    "res = [(x,y,z) for x in range(1, 7) for y in range(1, 7) for z in range(1, 7) if (x+y+z) != k]\n",
    "print(len(res))"
   ]
  },
  {
   "cell_type": "code",
   "execution_count": 20,
   "id": "f90fdc21-7b39-4264-987c-a03b1bdb5d1d",
   "metadata": {},
   "outputs": [
    {
     "name": "stdin",
     "output_type": "stream",
     "text": [
      " 13\n"
     ]
    },
    {
     "name": "stdout",
     "output_type": "stream",
     "text": [
      "195\n"
     ]
    }
   ],
   "source": [
    "k = int(input())\n",
    "res = sum([1 for x in range(1, 7) for y in range(1, 7) for z in range(1, 7) if (x+y+z) != k])\n",
    "print(res)"
   ]
  },
  {
   "cell_type": "code",
   "execution_count": 21,
   "id": "ae2cefe0-1d22-42ef-8eb5-805ea3d2ebc2",
   "metadata": {},
   "outputs": [
    {
     "name": "stdout",
     "output_type": "stream",
     "text": [
      "<class 'set'>\n",
      "{1, 2, 3, 4, 5, 6}\n"
     ]
    }
   ],
   "source": [
    "#set comprehension\n",
    "res = {x for x in range(1, 7)}\n",
    "print(type(res))\n",
    "print(res)"
   ]
  },
  {
   "cell_type": "code",
   "execution_count": 23,
   "id": "e7508c8e-2b72-42e8-ac9d-bbde2ccab257",
   "metadata": {},
   "outputs": [
    {
     "name": "stdout",
     "output_type": "stream",
     "text": [
      "<class 'dict'>\n",
      "{1: 1, 2: 4, 3: 9, 4: 16, 5: 25, 6: 36}\n"
     ]
    }
   ],
   "source": [
    "#dict  comprehension\n",
    "res = {x: x**2 for x in range(1, 7)}\n",
    "print(type(res))\n",
    "print(res)"
   ]
  },
  {
   "cell_type": "code",
   "execution_count": null,
   "id": "c522e6b4-7a24-4a47-a1d8-b44eecede6d8",
   "metadata": {},
   "outputs": [],
   "source": []
  }
 ],
 "metadata": {
  "kernelspec": {
   "display_name": "Python 3 (ipykernel)",
   "language": "python",
   "name": "python3"
  },
  "language_info": {
   "codemirror_mode": {
    "name": "ipython",
    "version": 3
   },
   "file_extension": ".py",
   "mimetype": "text/x-python",
   "name": "python",
   "nbconvert_exporter": "python",
   "pygments_lexer": "ipython3",
   "version": "3.13.3"
  }
 },
 "nbformat": 4,
 "nbformat_minor": 5
}
