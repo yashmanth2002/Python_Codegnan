{
 "cells": [
  {
   "cell_type": "code",
   "execution_count": 3,
   "id": "d31dc7a9-cd66-454d-a06c-5b070a41f2bf",
   "metadata": {},
   "outputs": [
    {
     "name": "stdout",
     "output_type": "stream",
     "text": [
      "0 - 10\n",
      "1 - 20\n",
      "2 - 30\n",
      "3 - 40\n"
     ]
    }
   ],
   "source": [
    "lst = [10, 20, 30, 40]\n",
    "for i in range(4):\n",
    "    print(f\"{i} - {lst[i]}\")"
   ]
  },
  {
   "cell_type": "markdown",
   "id": "3215983c-3429-43d7-8bbb-6372474eb18e",
   "metadata": {},
   "source": [
    "loops :- It is a set of instructions it executes multiple times again and again this process called as loops\n",
    "Type of loops in python:-\n",
    "1. For loop\n",
    "2. While loop\n",
    "\n",
    "For loop :- For loop in python is used to iterate over the items in any sequence(list, set, tuple, strings, dictionaries, functions)\n",
    "For loop Syntax :-\n",
    "for iterator in iterable:\n",
    "    #bloock code\n",
    "else: (optional)\n",
    "   #block code\n",
    "\n",
    "Range Function:- \n",
    "range(start, end, step)\n",
    "example:-\n",
    " range(0, 4, 1)\n",
    "\n"
   ]
  },
  {
   "cell_type": "code",
   "execution_count": 10,
   "id": "bbbc66f3-fb17-4370-aa41-0190ca9bf15e",
   "metadata": {},
   "outputs": [
    {
     "name": "stdout",
     "output_type": "stream",
     "text": [
      "1 2 3 4 5 6 7 8 9 10 "
     ]
    }
   ],
   "source": [
    "for num in range(1, 11):\n",
    "    print(num, end = \" \")"
   ]
  },
  {
   "cell_type": "code",
   "execution_count": 9,
   "id": "5960f138-a4ef-4a99-a576-3da2d56eea46",
   "metadata": {},
   "outputs": [
    {
     "name": "stdout",
     "output_type": "stream",
     "text": [
      "1\n",
      "2\n",
      "3\n",
      "4\n",
      "5\n",
      "6\n",
      "7\n",
      "8\n",
      "9\n",
      "10\n",
      "Program done\n"
     ]
    }
   ],
   "source": [
    "for num in range(1, 11):\n",
    "    print(num)\n",
    "else:\n",
    "    print(\"Program done\")"
   ]
  },
  {
   "cell_type": "code",
   "execution_count": 16,
   "id": "6a7f7e3e-3c68-48dd-a402-460ad07a09db",
   "metadata": {},
   "outputs": [
    {
     "name": "stdout",
     "output_type": "stream",
     "text": [
      "Even Numbers\n",
      "2\n",
      "4\n",
      "6\n",
      "8\n",
      "10\n",
      "12\n",
      "14\n",
      "16\n",
      "18\n",
      "20\n",
      "22\n",
      "24\n",
      "26\n",
      "28\n",
      "30\n",
      "32\n",
      "34\n",
      "36\n",
      "38\n",
      "40\n",
      "42\n",
      "44\n",
      "46\n",
      "48\n",
      "50\n",
      "52\n",
      "54\n",
      "56\n",
      "58\n",
      "60\n",
      "62\n",
      "64\n",
      "66\n",
      "68\n",
      "70\n",
      "72\n",
      "74\n",
      "76\n",
      "78\n",
      "80\n",
      "82\n",
      "84\n",
      "86\n",
      "88\n",
      "90\n",
      "92\n",
      "94\n",
      "96\n",
      "98\n",
      "Odd Numbers\n",
      "1\n",
      "3\n",
      "5\n",
      "7\n",
      "9\n",
      "11\n",
      "13\n",
      "15\n",
      "17\n",
      "19\n",
      "21\n",
      "23\n",
      "25\n",
      "27\n",
      "29\n",
      "31\n",
      "33\n",
      "35\n",
      "37\n",
      "39\n",
      "41\n",
      "43\n",
      "45\n",
      "47\n",
      "49\n",
      "51\n",
      "53\n",
      "55\n",
      "57\n",
      "59\n",
      "61\n",
      "63\n",
      "65\n",
      "67\n",
      "69\n",
      "71\n",
      "73\n",
      "75\n",
      "77\n",
      "79\n",
      "81\n",
      "83\n",
      "85\n",
      "87\n",
      "89\n",
      "91\n",
      "93\n",
      "95\n",
      "97\n",
      "99\n"
     ]
    }
   ],
   "source": [
    "print(\"Even Numbers\")\n",
    "for n in range(1, 100):\n",
    "    if n%2 == 0:\n",
    "        print(n)\n",
    "print(\"Odd Numbers\")\n",
    "for n in range (1, 100):\n",
    "    if n%2 != 0:\n",
    "        print(n)"
   ]
  },
  {
   "cell_type": "code",
   "execution_count": 18,
   "id": "6cf7e39f-bf7f-4b09-8d16-f3a77801620f",
   "metadata": {},
   "outputs": [
    {
     "name": "stdin",
     "output_type": "stream",
     "text": [
      " 19\n"
     ]
    },
    {
     "name": "stdout",
     "output_type": "stream",
     "text": [
      "Multiplication Table of 19 \n",
      "19 * 1 = 19\n",
      "19 * 2 = 38\n",
      "19 * 3 = 57\n",
      "19 * 4 = 76\n",
      "19 * 5 = 95\n",
      "19 * 6 = 114\n",
      "19 * 7 = 133\n",
      "19 * 8 = 152\n",
      "19 * 9 = 171\n",
      "19 * 10 = 190\n"
     ]
    }
   ],
   "source": [
    "n = int(input())\n",
    "print( f\"Multiplication Table of {n} \")\n",
    "for i in range (1, 11):\n",
    "    print(f\"{n} * {i} = {n*i}\")"
   ]
  },
  {
   "cell_type": "code",
   "execution_count": 20,
   "id": "13e54f0c-8c68-4948-a842-ca4dec2b6b18",
   "metadata": {},
   "outputs": [
    {
     "name": "stdout",
     "output_type": "stream",
     "text": [
      "[2, 6, 8]\n"
     ]
    }
   ],
   "source": [
    "lst = [2, 5, 6, 7, 8, 9]\n",
    "res = []\n",
    "for i in range(len(lst)):\n",
    "    if lst[i] % 2 == 0:\n",
    "        res.append(lst[i])\n",
    "print(res)"
   ]
  },
  {
   "cell_type": "code",
   "execution_count": null,
   "id": "b7f6ace5-5652-49fe-8709-5f568121c4cd",
   "metadata": {},
   "outputs": [],
   "source": []
  }
 ],
 "metadata": {
  "kernelspec": {
   "display_name": "Python 3 (ipykernel)",
   "language": "python",
   "name": "python3"
  },
  "language_info": {
   "codemirror_mode": {
    "name": "ipython",
    "version": 3
   },
   "file_extension": ".py",
   "mimetype": "text/x-python",
   "name": "python",
   "nbconvert_exporter": "python",
   "pygments_lexer": "ipython3",
   "version": "3.13.3"
  }
 },
 "nbformat": 4,
 "nbformat_minor": 5
}
