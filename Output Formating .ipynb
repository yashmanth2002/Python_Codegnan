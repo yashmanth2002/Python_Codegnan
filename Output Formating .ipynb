{
 "cells": [
  {
   "cell_type": "code",
   "execution_count": 1,
   "id": "0ac35080-816e-41b7-b072-44ba883822cd",
   "metadata": {},
   "outputs": [
    {
     "name": "stdout",
     "output_type": "stream",
     "text": [
      "Name is Ravi and age is 25\n"
     ]
    }
   ],
   "source": [
    "#1. Old style output formating - using comma\n",
    "name = \"Ravi\"\n",
    "age = 20\n",
    "print(\"Name is\", name, \"and age is\", age+5)"
   ]
  },
  {
   "cell_type": "code",
   "execution_count": 3,
   "id": "5a538198-4aa6-435d-babe-f345fbce0c78",
   "metadata": {},
   "outputs": [
    {
     "name": "stdout",
     "output_type": "stream",
     "text": [
      "Name is Ravi and age is 20\n"
     ]
    }
   ],
   "source": [
    "#2. modulo style output formating \n",
    "# Access Integers\n",
    "# %d - Integers\n",
    "# %f - Float\n",
    "# %s - Strings\n",
    "name = \"Ravi\"\n",
    "age = 20\n",
    "print(\"Name is %s and age is %d\" %(name, age))"
   ]
  },
  {
   "cell_type": "code",
   "execution_count": 10,
   "id": "00886c39-5ba7-421a-9453-0212359e6d49",
   "metadata": {},
   "outputs": [
    {
     "name": "stdout",
     "output_type": "stream",
     "text": [
      "Name is Ravi and age is 20\n",
      "Name is 20 and age is Ravi\n",
      "Name is Ravi and age is 25\n"
     ]
    }
   ],
   "source": [
    "# 3.dot format\n",
    "name = \"Ravi\"\n",
    "age = 20\n",
    "print(\"Name is {} and age is {}\".format(name, age))\n",
    "print(\"Name is {} and age is {}\".format(age, name))\n",
    "print(\"Name is {} and age is {}\".format(name, age+5))"
   ]
  },
  {
   "cell_type": "code",
   "execution_count": 11,
   "id": "115d4ca5-81bb-4a1a-b02a-392b2ffdc819",
   "metadata": {},
   "outputs": [
    {
     "name": "stdout",
     "output_type": "stream",
     "text": [
      "Name is Ravi and age is 20 and i have 95.2568\n",
      "Name is Ravi and age is 20 and i have  95.26\n",
      "1000000\n"
     ]
    }
   ],
   "source": [
    "#4. f- format\n",
    "name = \"Ravi\"\n",
    "age = 20\n",
    "percentage = 95.2568\n",
    "print(f\"Name is {name} and age is {age} and i have {percentage}\")\n",
    "print(f\"Name is {name} and age is {age} and i have {percentage: .2f}\")\n",
    "num = 1000000\n",
    "print(f\"{num:0{5}d}\")"
   ]
  },
  {
   "cell_type": "code",
   "execution_count": 14,
   "id": "700ae052-ea58-4e75-be46-de3f562f6bd0",
   "metadata": {},
   "outputs": [
    {
     "name": "stdout",
     "output_type": "stream",
     "text": [
      "55\n",
      "52 + 3\n",
      "56\n"
     ]
    }
   ],
   "source": [
    "# eval() function - It evaluates the string represented expression\n",
    "res = eval('52 + 3')\n",
    "print(res)\n",
    "print('52 + 3')\n",
    "print(eval('53 + 3'))"
   ]
  },
  {
   "cell_type": "code",
   "execution_count": 9,
   "id": "3c5f267c-4769-44e5-b93d-8df078eb4f13",
   "metadata": {},
   "outputs": [
    {
     "name": "stdin",
     "output_type": "stream",
     "text": [
      " {1: 'a', 2: 'b', 3: 'c'}\n"
     ]
    },
    {
     "name": "stdout",
     "output_type": "stream",
     "text": [
      "<class 'dict'> {1: 'a', 2: 'b', 3: 'c'}\n"
     ]
    }
   ],
   "source": [
    "num = eval(input())\n",
    "print(type(num), num)"
   ]
  },
  {
   "cell_type": "code",
   "execution_count": 7,
   "id": "d8b73653-1fa6-4d61-825c-dcfee2969a02",
   "metadata": {},
   "outputs": [
    {
     "name": "stdin",
     "output_type": "stream",
     "text": [
      " 20 20 210 30\n"
     ]
    },
    {
     "name": "stdout",
     "output_type": "stream",
     "text": [
      "[20, 20, 210, 30]\n"
     ]
    }
   ],
   "source": [
    "l = list(map(int, input().strip().split()))\n",
    "print(l)"
   ]
  },
  {
   "cell_type": "code",
   "execution_count": null,
   "id": "0899016b-b6fc-43fa-afcc-a5d712e965da",
   "metadata": {},
   "outputs": [],
   "source": []
  }
 ],
 "metadata": {
  "kernelspec": {
   "display_name": "Python 3 (ipykernel)",
   "language": "python",
   "name": "python3"
  },
  "language_info": {
   "codemirror_mode": {
    "name": "ipython",
    "version": 3
   },
   "file_extension": ".py",
   "mimetype": "text/x-python",
   "name": "python",
   "nbconvert_exporter": "python",
   "pygments_lexer": "ipython3",
   "version": "3.13.3"
  }
 },
 "nbformat": 4,
 "nbformat_minor": 5
}
