{
 "cells": [
  {
   "cell_type": "code",
   "execution_count": 1,
   "id": "bb50c68b-30a0-4dd5-8ebc-b9d7e492e5b5",
   "metadata": {},
   "outputs": [
    {
     "name": "stdout",
     "output_type": "stream",
     "text": [
      "        * \n",
      "      * * * \n",
      "    * * * * * \n",
      "  * * * * * * * \n",
      "* * * * * * * * * \n"
     ]
    }
   ],
   "source": [
    "rows = 5\n",
    "cols = 2 * rows - 1\n",
    "for i in range(rows):\n",
    "    for j in range(rows-i-1):\n",
    "        print(\" \", end = \" \")\n",
    "    for k in range(2*i + 1):\n",
    "        print(\"*\", end = \" \")\n",
    "    print()"
   ]
  },
  {
   "cell_type": "code",
   "execution_count": 3,
   "id": "cbf96387-9558-4390-ab23-64fb1dabacaf",
   "metadata": {},
   "outputs": [
    {
     "name": "stdout",
     "output_type": "stream",
     "text": [
      "# # # # * \n",
      "# # # * * * \n",
      "# # * * * * * \n",
      "# * * * * * * * \n",
      "* * * * * * * * * \n"
     ]
    }
   ],
   "source": [
    "rows = 5\n",
    "cols = 2 * rows - 1\n",
    "for i in range(rows):\n",
    "    # this loop handles starting Spaces\n",
    "    for j in range(rows-i-1):\n",
    "        print(\"#\", end = \" \")\n",
    "    for k in range(2*i + 1):\n",
    "        print(\"*\", end = \" \")\n",
    "    print()"
   ]
  },
  {
   "cell_type": "code",
   "execution_count": 5,
   "id": "feef4890-f8a0-472d-9e99-d568798dfa68",
   "metadata": {},
   "outputs": [
    {
     "name": "stdout",
     "output_type": "stream",
     "text": [
      "* * * * * * * * * \n",
      "  * * * * * * * \n",
      "    * * * * * \n",
      "      * * * \n",
      "        * \n"
     ]
    }
   ],
   "source": [
    "rows = 5\n",
    "cols = 2 * rows - 1\n",
    "for i in range(rows, 0, -1):\n",
    "    # this loop handles starting Spaces\n",
    "    for j in range(rows-i):\n",
    "        print(\" \", end = \" \")\n",
    "    for k in range(2*i - 1):\n",
    "        print(\"*\", end = \" \")\n",
    "    print()"
   ]
  },
  {
   "cell_type": "code",
   "execution_count": 7,
   "id": "d829f854-d9a5-4086-bffd-8715424efe47",
   "metadata": {},
   "outputs": [
    {
     "name": "stdout",
     "output_type": "stream",
     "text": [
      "        * \n",
      "      * * * \n",
      "    * * * * * \n",
      "  * * * * * * * \n",
      "* * * * * * * * * \n",
      "  * * * * * * * \n",
      "    * * * * * \n",
      "      * * * \n",
      "        * \n"
     ]
    }
   ],
   "source": [
    "rows = 5\n",
    "cols = 2 * rows - 1\n",
    "for i in range(rows):\n",
    "    for j in range(rows - i - 1):\n",
    "        print(\" \", end=\" \")\n",
    "    for k in range(2 * i + 1):\n",
    "        print(\"*\", end=\" \")\n",
    "    print()\n",
    "for i in range(rows - 1, 0, -1):\n",
    "    for j in range(rows - i):\n",
    "        print(\" \", end=\" \")\n",
    "    for k in range(2 * i - 1):\n",
    "        print(\"*\", end=\" \")\n",
    "    print()\n"
   ]
  },
  {
   "cell_type": "code",
   "execution_count": 13,
   "id": "93c8b034-583c-48b8-86a2-51123932a3ef",
   "metadata": {},
   "outputs": [
    {
     "name": "stdout",
     "output_type": "stream",
     "text": [
      "[1, 67]\n",
      "[1, 67] is a prime number\n"
     ]
    }
   ],
   "source": [
    "n = 67\n",
    "res = []\n",
    "for i in range(1, n+1):\n",
    "    if n % i == 0:\n",
    "        res.append(i)\n",
    "print(res)\n",
    "if len(res) == 2:\n",
    "    print(f\"{res} is a prime number\")\n",
    "else:\n",
    "    print(f\"{res} is not a prime number\")"
   ]
  },
  {
   "cell_type": "code",
   "execution_count": 15,
   "id": "05467534-fece-4ae1-8467-57ff9b01caca",
   "metadata": {},
   "outputs": [
    {
     "name": "stdout",
     "output_type": "stream",
     "text": [
      "11 is prime number\n"
     ]
    }
   ],
   "source": [
    "n = 11\n",
    "res = []\n",
    "for i in range(2, n//2+1):\n",
    "    if n % i == 0:\n",
    "        print(f\"{n} not prime number\")\n",
    "        break\n",
    "else:\n",
    "    print(f\"{n} is prime number\")"
   ]
  },
  {
   "cell_type": "code",
   "execution_count": null,
   "id": "6eb019a2-018a-429a-9026-349297821da6",
   "metadata": {},
   "outputs": [],
   "source": []
  }
 ],
 "metadata": {
  "kernelspec": {
   "display_name": "Python 3 (ipykernel)",
   "language": "python",
   "name": "python3"
  },
  "language_info": {
   "codemirror_mode": {
    "name": "ipython",
    "version": 3
   },
   "file_extension": ".py",
   "mimetype": "text/x-python",
   "name": "python",
   "nbconvert_exporter": "python",
   "pygments_lexer": "ipython3",
   "version": "3.13.3"
  }
 },
 "nbformat": 4,
 "nbformat_minor": 5
}
