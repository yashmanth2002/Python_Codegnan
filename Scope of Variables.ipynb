{
 "cells": [
  {
   "cell_type": "markdown",
   "id": "7db943c4-bb31-4ef0-97bd-35b0bc7bef16",
   "metadata": {},
   "source": [
    "# Scope of Variables\n",
    "1. Global Variable\n",
    "2. Local Variable\n",
    "3. Non Local Variable"
   ]
  },
  {
   "cell_type": "code",
   "execution_count": 5,
   "id": "5395a412-333f-4315-9931-a46f2bd07665",
   "metadata": {},
   "outputs": [
    {
     "name": "stdout",
     "output_type": "stream",
     "text": [
      "Non local scope: 70\n",
      "Local Scope: 30\n",
      "Global Scope: 10\n"
     ]
    }
   ],
   "source": [
    "x = 10 # Global Variable\n",
    "def outer():\n",
    "    y = 20 # Local Variable\n",
    "    y = y + x\n",
    "    def inner():\n",
    "        z = 30 # Non Local Variable\n",
    "        z = x + y + z\n",
    "        print(\"Non local scope:\", z)\n",
    "    inner()\n",
    "    print(\"Local Scope:\", y)\n",
    "outer()\n",
    "print(\"Global Scope:\", x)"
   ]
  },
  {
   "cell_type": "code",
   "execution_count": 7,
   "id": "55b070ab-f473-4c95-a522-e75d9b00a185",
   "metadata": {},
   "outputs": [
    {
     "name": "stdout",
     "output_type": "stream",
     "text": [
      "Non local scope: 32\n",
      "Local Scope: 21\n",
      "Global Scope: 10\n"
     ]
    }
   ],
   "source": [
    "x = 10\n",
    "def outer():\n",
    "    x = 20\n",
    "    x = x + 1\n",
    "    def inner():\n",
    "        x = 30\n",
    "        x = x + 2\n",
    "        print(\"Non local scope:\", x)\n",
    "    inner()\n",
    "    print(\"Local Scope:\", x)\n",
    "outer()\n",
    "print(\"Global Scope:\", x)"
   ]
  },
  {
   "cell_type": "code",
   "execution_count": 8,
   "id": "7922efe9-31c4-4cfc-81e2-45502aa22fb6",
   "metadata": {},
   "outputs": [
    {
     "name": "stdout",
     "output_type": "stream",
     "text": [
      "Non local scope: 12\n",
      "Local Scope: 11\n",
      "Global Scope: 10\n"
     ]
    }
   ],
   "source": [
    "# Using the Global Scope Var\n",
    "x = 10\n",
    "def outer():\n",
    "    #x = 20\n",
    "    z = x + 1\n",
    "    def inner():\n",
    "        #x = 30\n",
    "        y = x + 2\n",
    "        print(\"Non local scope:\", y)\n",
    "    inner()\n",
    "    print(\"Local Scope:\", z)\n",
    "outer()\n",
    "print(\"Global Scope:\", x)"
   ]
  },
  {
   "cell_type": "code",
   "execution_count": 9,
   "id": "847b6d76-ffe3-4e9c-9ed8-50e973abb569",
   "metadata": {},
   "outputs": [
    {
     "name": "stdout",
     "output_type": "stream",
     "text": [
      "Non local scope: 13\n",
      "Local Scope: 11\n",
      "Global Scope: 11\n"
     ]
    }
   ],
   "source": [
    "x = 10\n",
    "def outer():\n",
    "    global x\n",
    "    x = x + 1\n",
    "    def inner():\n",
    "        #x = 30\n",
    "        y = x + 2\n",
    "        print(\"Non local scope:\", y)\n",
    "    inner()\n",
    "    print(\"Local Scope:\", x)\n",
    "outer()\n",
    "print(\"Global Scope:\", x)"
   ]
  },
  {
   "cell_type": "markdown",
   "id": "9a572e3d-72bb-4573-b3bd-9a88c232b378",
   "metadata": {},
   "source": [
    "The Scope of Variable in python defines the regain of the program where the variable recognised and can be acess\n",
    "Types of Scopes of Variables\n",
    "1. Global Scope\n",
    "2. Local Scope\n",
    "3. Non Local Scope\n",
    "\n",
    "1. Global Scope:- The variables are defined outside the functions those variables called as Global Scope Variable\n",
    "2. Local Scope:- The Variables are defined inside the function defination those variable called as Local Scope Variable\n",
    "3. Non Local Scope :- The Variables are defined inside the nested functions those variable called as Non Local Scope\n",
    "   Variables\n",
    "   \n",
    "1. Global Variables can be accessed through out the program but we can't update directly\n",
    "2. By defining the variable with non local keyword local Variables we can update in non local scope\n",
    "3. "
   ]
  }
 ],
 "metadata": {
  "kernelspec": {
   "display_name": "Python 3 (ipykernel)",
   "language": "python",
   "name": "python3"
  },
  "language_info": {
   "codemirror_mode": {
    "name": "ipython",
    "version": 3
   },
   "file_extension": ".py",
   "mimetype": "text/x-python",
   "name": "python",
   "nbconvert_exporter": "python",
   "pygments_lexer": "ipython3",
   "version": "3.13.3"
  }
 },
 "nbformat": 4,
 "nbformat_minor": 5
}
