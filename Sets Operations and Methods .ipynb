{
 "cells": [
  {
   "cell_type": "code",
   "execution_count": 3,
   "id": "786a2d0c-51b3-45b6-b0e5-708f0274374f",
   "metadata": {},
   "outputs": [
    {
     "name": "stdout",
     "output_type": "stream",
     "text": [
      "{1, 2, 34, 20.25, 'Codegnan', (1, 2, 3)}\n"
     ]
    }
   ],
   "source": [
    "# example set\n",
    "s = {1,2,34,20.25, \"Codegnan\",(1,2,3),1,2}\n",
    "print(s)"
   ]
  },
  {
   "cell_type": "code",
   "execution_count": 4,
   "id": "77ba77cc-ec9a-4c69-a03b-f54d91186631",
   "metadata": {},
   "outputs": [
    {
     "name": "stdout",
     "output_type": "stream",
     "text": [
      "<class 'dict'> <class 'set'>\n"
     ]
    }
   ],
   "source": [
    "#empty set creation\n",
    "s1 = {}\n",
    "s2 = set()\n",
    "print(type(s1), type(s2))"
   ]
  },
  {
   "cell_type": "code",
   "execution_count": 5,
   "id": "cbca23d0-f5c7-4eab-873c-6d0e49c86d28",
   "metadata": {},
   "outputs": [
    {
     "name": "stdin",
     "output_type": "stream",
     "text": [
      " 1 2 3 20 4 30 5 1 2 4\n"
     ]
    },
    {
     "name": "stdout",
     "output_type": "stream",
     "text": [
      "{1, 2, 3, 4, 5, 20, 30}\n"
     ]
    }
   ],
   "source": [
    "#read set of integers from user\n",
    "s = set(map(int, input().split()))\n",
    "print(s)"
   ]
  },
  {
   "cell_type": "markdown",
   "id": "4e5f8d92-d364-4660-8b4b-0dd886c10aec",
   "metadata": {},
   "source": [
    " - union() - It returns all elements from sets without duplicates\n",
    " - intersection() - It returns all common elements from set\n",
    " - difference()- It returns only one set of elements not other set elements\n",
    " - symmentricdifference()- It returns all non- common elements from set\n",
    " - issubset() - It checks current set is subset if other set or not\n",
    " - issuperset() - It checks current set is superset to other set or not\n",
    " - isdisjoint() - It checks all sets wheather if have common elements or not\n",
    " - add(ele) - It adds element to set if element not present in set, otherwise nothing\n",
    " - remove(element) - It removes the elements from set if element present in set, otherwise 'KeyError'\n",
    " - discard(ele) - It removes the element if element present in set, otherwise nothing\n",
    " - update(new_set) - It updates the new_set of element in current set\n",
    " - pop() - It return and removes the element from set"
   ]
  },
  {
   "cell_type": "code",
   "execution_count": 10,
   "id": "ad760ea1-00a9-4756-a904-896a7a4d303b",
   "metadata": {},
   "outputs": [
    {
     "name": "stdout",
     "output_type": "stream",
     "text": [
      "Union: {1, 2, 3, 4, 5}\n",
      "Intersection: {1, 5}\n",
      "Difference: {2}\n",
      "Symmetric Difference: {2, 3, 4}\n",
      "Subset: False\n",
      "Superset: False\n",
      "Disjoint Set: False\n"
     ]
    }
   ],
   "source": [
    "# set operations\n",
    "s1 = {1,2,5}\n",
    "s2 = {1,3,4,5}\n",
    "print(\"Union:\" , s1.union(s2))\n",
    "print(\"Intersection:\" , s1.intersection(s2))\n",
    "print(\"Difference:\" , s1.difference(s2))\n",
    "print(\"Symmetric Difference:\" , s1.symmetric_difference(s2))\n",
    "print(\"Subset:\" , s1.issubset(s2))\n",
    "print(\"Superset:\" , s1.issuperset(s2))\n",
    "print(\"Disjoint Set:\", s1.isdisjoint(s2))"
   ]
  },
  {
   "cell_type": "code",
   "execution_count": 12,
   "id": "3bf3ceb9-5412-4bbf-89b2-7a60d87c14c4",
   "metadata": {},
   "outputs": [
    {
     "name": "stdout",
     "output_type": "stream",
     "text": [
      "Union: {1, 2, 3, 4, 5}\n",
      "Intersection: {1, 5}\n",
      "Difference: {2}\n",
      "Symmetric Difference: {2, 3, 4}\n"
     ]
    }
   ],
   "source": [
    "s1 = {1,2,5}\n",
    "s2 = {1,3,4,5}\n",
    "print(\"Union:\" , s1 |s2) #union\n",
    "print(\"Intersection:\" , s1 & s2) #intersection\n",
    "print(\"Difference:\" , s1 - s2) # difference\n",
    "print(\"Symmetric Difference:\" , s1 ^ s2) #symmentric difference"
   ]
  },
  {
   "cell_type": "code",
   "execution_count": 15,
   "id": "558faad6-7e99-413e-af26-9ffab03c6e82",
   "metadata": {},
   "outputs": [
    {
     "name": "stdout",
     "output_type": "stream",
     "text": [
      "{65, 2, 3.5, 1, 100, 43}\n",
      "{65, 2, 3.5, 1, 43}\n",
      "{65, 3.5, 1, 43}\n",
      "{65, 1, 3.5, 2, 3, 43}\n"
     ]
    }
   ],
   "source": [
    "#add()\n",
    "#remove()\n",
    "#discard()\n",
    "#update()\n",
    "s1 = {1,2,3.5,65,43}\n",
    "s1.add(100)\n",
    "s1.add(1)\n",
    "print(s1)\n",
    "s1.remove(100)\n",
    "print(s1)\n",
    "#s1.remove(100) #KeyError\n",
    "s1.discard(100)\n",
    "s1.discard(2)\n",
    "print(s1)\n",
    "s1.update({1,2,3})\n",
    "print(s1)"
   ]
  },
  {
   "cell_type": "code",
   "execution_count": null,
   "id": "155e0281-1d0b-42af-ab39-04b2b0d3500d",
   "metadata": {},
   "outputs": [],
   "source": []
  }
 ],
 "metadata": {
  "kernelspec": {
   "display_name": "Python 3 (ipykernel)",
   "language": "python",
   "name": "python3"
  },
  "language_info": {
   "codemirror_mode": {
    "name": "ipython",
    "version": 3
   },
   "file_extension": ".py",
   "mimetype": "text/x-python",
   "name": "python",
   "nbconvert_exporter": "python",
   "pygments_lexer": "ipython3",
   "version": "3.13.3"
  }
 },
 "nbformat": 4,
 "nbformat_minor": 5
}
