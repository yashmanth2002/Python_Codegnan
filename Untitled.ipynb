{
 "cells": [
  {
   "cell_type": "code",
   "execution_count": null,
   "id": "9198401b-938e-4289-aa1f-dabe691f0395",
   "metadata": {},
   "outputs": [],
   "source": []
  }
 ],
 "metadata": {
  "kernelspec": {
   "display_name": "",
   "name": ""
  },
  "language_info": {
   "name": ""
  }
 },
 "nbformat": 4,
 "nbformat_minor": 5
}
