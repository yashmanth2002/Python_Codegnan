{
 "cells": [
  {
   "cell_type": "markdown",
   "id": "91edd785-f941-47ad-8caf-38fe734113a3",
   "metadata": {},
   "source": [
    "# While Loop:-\n",
    "The While block code will executes until unless while condition evaluates to false . while loop will use when you don't know the iterations in the code\n",
    "\n",
    "# Syntax\n",
    "while condition:\n",
    "   # block code\n",
    "else: (Optional)\n",
    "   # block code"
   ]
  },
  {
   "cell_type": "code",
   "execution_count": 6,
   "id": "82605413-7052-4f45-9909-b4e8e2083c4f",
   "metadata": {},
   "outputs": [
    {
     "name": "stdin",
     "output_type": "stream",
     "text": [
      " 90\n"
     ]
    },
    {
     "name": "stdout",
     "output_type": "stream",
     "text": [
      "1\n",
      "2\n",
      "3\n",
      "4\n",
      "5\n",
      "6\n",
      "7\n",
      "8\n",
      "9\n",
      "10\n",
      "11\n",
      "12\n",
      "13\n",
      "14\n",
      "15\n",
      "16\n",
      "17\n",
      "18\n",
      "19\n",
      "20\n",
      "21\n",
      "22\n",
      "23\n",
      "24\n",
      "25\n",
      "26\n",
      "27\n",
      "28\n",
      "29\n",
      "30\n",
      "31\n",
      "32\n",
      "33\n",
      "34\n",
      "35\n",
      "36\n",
      "37\n",
      "38\n",
      "39\n",
      "40\n",
      "41\n",
      "42\n",
      "43\n",
      "44\n",
      "45\n",
      "46\n",
      "47\n",
      "48\n",
      "49\n",
      "50\n",
      "51\n",
      "52\n",
      "53\n",
      "54\n",
      "55\n",
      "56\n",
      "57\n",
      "58\n",
      "59\n",
      "60\n",
      "61\n",
      "62\n",
      "63\n",
      "64\n",
      "65\n",
      "66\n",
      "67\n",
      "68\n",
      "69\n",
      "70\n",
      "71\n",
      "72\n",
      "73\n",
      "74\n",
      "75\n",
      "76\n",
      "77\n",
      "78\n",
      "79\n",
      "80\n",
      "81\n",
      "82\n",
      "83\n",
      "84\n",
      "85\n",
      "86\n",
      "87\n",
      "88\n",
      "89\n",
      "90\n",
      "Program done\n"
     ]
    }
   ],
   "source": [
    "# print 1 to n numbers using while loop\n",
    "\n",
    "n = int(input())\n",
    "i = 1\n",
    "while i <= n:\n",
    "    print(i)\n",
    "    i += 1\n",
    "else:\n",
    "    print(\"Program done\")"
   ]
  },
  {
   "cell_type": "code",
   "execution_count": 8,
   "id": "8d9ad3d7-30db-4cc1-89d8-b7008ac0912c",
   "metadata": {},
   "outputs": [
    {
     "name": "stdout",
     "output_type": "stream",
     "text": [
      "[1, 3, 1]\n"
     ]
    }
   ],
   "source": [
    "# Remove an element from the list using while loop\n",
    "lst = [1, 2, 2, 3, 2, 1]\n",
    "ele = 2\n",
    "n = len(lst)\n",
    "i = 0\n",
    "while i < n:\n",
    "    if lst[i] == ele:\n",
    "        lst.pop(i)\n",
    "        n -= 1\n",
    "    else:\n",
    "        i += 1\n",
    "print(lst)"
   ]
  },
  {
   "cell_type": "code",
   "execution_count": null,
   "id": "dfa2b2b3-4dba-4dc2-8b60-bc3c172fb8bf",
   "metadata": {},
   "outputs": [],
   "source": []
  }
 ],
 "metadata": {
  "kernelspec": {
   "display_name": "Python 3 (ipykernel)",
   "language": "python",
   "name": "python3"
  },
  "language_info": {
   "codemirror_mode": {
    "name": "ipython",
    "version": 3
   },
   "file_extension": ".py",
   "mimetype": "text/x-python",
   "name": "python",
   "nbconvert_exporter": "python",
   "pygments_lexer": "ipython3",
   "version": "3.13.3"
  }
 },
 "nbformat": 4,
 "nbformat_minor": 5
}
