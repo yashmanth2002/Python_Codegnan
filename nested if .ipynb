{
 "cells": [
  {
   "cell_type": "code",
   "execution_count": 11,
   "id": "ba6d4e30-6bd4-446f-9e59-36d355d6b126",
   "metadata": {},
   "outputs": [
    {
     "name": "stdin",
     "output_type": "stream",
     "text": [
      " -97\n"
     ]
    },
    {
     "name": "stdout",
     "output_type": "stream",
     "text": [
      "-ve Odd\n"
     ]
    }
   ],
   "source": [
    "n = int(input())\n",
    "if n%2==0 and n >= 0:\n",
    "    print(\"+ve Even\")\n",
    "elif n%2==0 and n < 0:\n",
    "    print(\"-ve Even\")\n",
    "elif n%2!=0 and n >= 0:\n",
    "    print(\"+ve Odd\")\n",
    "else:\n",
    "    print(\"-ve Odd\")"
   ]
  },
  {
   "cell_type": "markdown",
   "id": "fd245d77-07e2-4eb0-bfe4-3d7f100ec4c0",
   "metadata": {},
   "source": [
    "#Nested If:- A if block statement contains another if block within the statement, these block of code are called as nested if statement\n",
    "if condition1:\n",
    "   if cond2:\n",
    "      #block code1\n",
    "   else:\n",
    "      #block code2\n",
    "else:\n",
    "    if cond3:\n",
    "       # block code3\n",
    "    else:\n",
    "        #block code4"
   ]
  },
  {
   "cell_type": "code",
   "execution_count": 18,
   "id": "e872c654-0b1b-4fb3-8808-153e82a63997",
   "metadata": {},
   "outputs": [
    {
     "name": "stdin",
     "output_type": "stream",
     "text": [
      " 6\n"
     ]
    },
    {
     "name": "stdout",
     "output_type": "stream",
     "text": [
      "Positive Even\n"
     ]
    }
   ],
   "source": [
    "# Positive even, negative even and positive odd, negative odd using nested if statements\n",
    "n = int(input())\n",
    "if n>=0:\n",
    "    if n%2==0:\n",
    "        print(\"Positive Even\")\n",
    "    else:\n",
    "        print(\"Positive Odd\")\n",
    "else:\n",
    "    if n%2==0:\n",
    "        print(\"Negative Even\")\n",
    "    else:\n",
    "        print(\"Negative Odd\")"
   ]
  },
  {
   "cell_type": "code",
   "execution_count": 19,
   "id": "f937d895-862d-4acc-9b9d-3827108bd85f",
   "metadata": {},
   "outputs": [
    {
     "name": "stdin",
     "output_type": "stream",
     "text": [
      " 7\n",
      " 9\n",
      " 3\n"
     ]
    },
    {
     "name": "stdout",
     "output_type": "stream",
     "text": [
      "B is biggest number\n"
     ]
    }
   ],
   "source": [
    "# biggest number of  give three numbers using if elif statements\n",
    "a = int(input())\n",
    "b = int(input())\n",
    "c = int(input())\n",
    "if a > b:\n",
    "    print(\"A is biggest number\")\n",
    "elif c > b:\n",
    "    print(\"C is biggest number\")\n",
    "else:\n",
    "    print(\"B is biggest number\")\n"
   ]
  },
  {
   "cell_type": "code",
   "execution_count": 22,
   "id": "90ede978-0f37-4d93-9f1e-6cf48a5c9c23",
   "metadata": {},
   "outputs": [
    {
     "name": "stdin",
     "output_type": "stream",
     "text": [
      " 6\n",
      " 9\n",
      " 50\n"
     ]
    },
    {
     "name": "stdout",
     "output_type": "stream",
     "text": [
      "C is biggest number\n"
     ]
    }
   ],
   "source": [
    "# biggest number of  give three numbers using nested if statements\n",
    "a = int(input())\n",
    "b = int(input())\n",
    "c = int(input())\n",
    "if a > b or b > c:\n",
    "    if a > c:\n",
    "        print(\"A is biggest number\")\n",
    "    else:\n",
    "        print(\"C is biggest number\")\n",
    "else:\n",
    "    if b > a and b > c:\n",
    "        print(\"B is the biggest number\")\n",
    "    else:\n",
    "        print(\"C is biggest number\")\n",
    "        "
   ]
  },
  {
   "cell_type": "code",
   "execution_count": null,
   "id": "a6ace060-81d6-45bd-8ae4-8c78c39c0c2d",
   "metadata": {},
   "outputs": [],
   "source": []
  }
 ],
 "metadata": {
  "kernelspec": {
   "display_name": "Python 3 (ipykernel)",
   "language": "python",
   "name": "python3"
  },
  "language_info": {
   "codemirror_mode": {
    "name": "ipython",
    "version": 3
   },
   "file_extension": ".py",
   "mimetype": "text/x-python",
   "name": "python",
   "nbconvert_exporter": "python",
   "pygments_lexer": "ipython3",
   "version": "3.13.3"
  }
 },
 "nbformat": 4,
 "nbformat_minor": 5
}
